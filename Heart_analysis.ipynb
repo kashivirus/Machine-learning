{
  "nbformat": 4,
  "nbformat_minor": 0,
  "metadata": {
    "colab": {
      "name": "Heart analysis.ipynb",
      "provenance": [],
      "collapsed_sections": []
    },
    "kernelspec": {
      "name": "python3",
      "display_name": "Python 3"
    },
    "language_info": {
      "name": "python"
    }
  },
  "cells": [
    {
      "cell_type": "code",
      "metadata": {
        "id": "nzpRjLyEJA20"
      },
      "source": [
        "import numpy as np\n",
        "\n",
        "import pandas as pd\n",
        "\n",
        "import os\n",
        "\n",
        "import matplotlib.pyplot as plt\n",
        "\n",
        "import seaborn as sns \n",
        "\n"
      ],
      "execution_count": null,
      "outputs": []
    },
    {
      "cell_type": "code",
      "metadata": {
        "id": "QlCUx9AqJccw"
      },
      "source": [
        "os.environ['KAGGLE_CONFIG_DIR'] = '/content'"
      ],
      "execution_count": null,
      "outputs": []
    },
    {
      "cell_type": "code",
      "metadata": {
        "colab": {
          "base_uri": "https://localhost:8080/"
        },
        "id": "GSofKDUhJmXe",
        "outputId": "ef726f2b-be1f-4d78-f15a-e006a6c81da3"
      },
      "source": [
        " !kaggle datasets download -d rashikrahmanpritom/heart-attack-analysis-prediction-dataset"
      ],
      "execution_count": null,
      "outputs": [
        {
          "output_type": "stream",
          "text": [
            "Warning: Your Kaggle API key is readable by other users on this system! To fix this, you can run 'chmod 600 /content/kaggle.json'\n",
            "heart-attack-analysis-prediction-dataset.zip: Skipping, found more recently modified local copy (use --force to force download)\n"
          ],
          "name": "stdout"
        }
      ]
    },
    {
      "cell_type": "code",
      "metadata": {
        "id": "qhj4EEllPqxx"
      },
      "source": [
        "import zipfile"
      ],
      "execution_count": null,
      "outputs": []
    },
    {
      "cell_type": "code",
      "metadata": {
        "id": "hri6TpDpPwoX"
      },
      "source": [
        "file1 = zipfile.ZipFile('/content/heart-attack-analysis-prediction-dataset.zip')\n",
        "file1.extractall()"
      ],
      "execution_count": null,
      "outputs": []
    },
    {
      "cell_type": "code",
      "metadata": {
        "colab": {
          "base_uri": "https://localhost:8080/",
          "height": 424
        },
        "id": "NaCiRqn4P4tf",
        "outputId": "474d49ed-80fb-4128-d703-fefccd926ef0"
      },
      "source": [
        "data = pd.read_csv('/content/heart.csv')\n",
        "\n",
        "data\n"
      ],
      "execution_count": null,
      "outputs": [
        {
          "output_type": "execute_result",
          "data": {
            "text/html": [
              "<div>\n",
              "<style scoped>\n",
              "    .dataframe tbody tr th:only-of-type {\n",
              "        vertical-align: middle;\n",
              "    }\n",
              "\n",
              "    .dataframe tbody tr th {\n",
              "        vertical-align: top;\n",
              "    }\n",
              "\n",
              "    .dataframe thead th {\n",
              "        text-align: right;\n",
              "    }\n",
              "</style>\n",
              "<table border=\"1\" class=\"dataframe\">\n",
              "  <thead>\n",
              "    <tr style=\"text-align: right;\">\n",
              "      <th></th>\n",
              "      <th>age</th>\n",
              "      <th>sex</th>\n",
              "      <th>cp</th>\n",
              "      <th>trtbps</th>\n",
              "      <th>chol</th>\n",
              "      <th>fbs</th>\n",
              "      <th>restecg</th>\n",
              "      <th>thalachh</th>\n",
              "      <th>exng</th>\n",
              "      <th>oldpeak</th>\n",
              "      <th>slp</th>\n",
              "      <th>caa</th>\n",
              "      <th>thall</th>\n",
              "      <th>output</th>\n",
              "    </tr>\n",
              "  </thead>\n",
              "  <tbody>\n",
              "    <tr>\n",
              "      <th>0</th>\n",
              "      <td>63</td>\n",
              "      <td>1</td>\n",
              "      <td>3</td>\n",
              "      <td>145</td>\n",
              "      <td>233</td>\n",
              "      <td>1</td>\n",
              "      <td>0</td>\n",
              "      <td>150</td>\n",
              "      <td>0</td>\n",
              "      <td>2.3</td>\n",
              "      <td>0</td>\n",
              "      <td>0</td>\n",
              "      <td>1</td>\n",
              "      <td>1</td>\n",
              "    </tr>\n",
              "    <tr>\n",
              "      <th>1</th>\n",
              "      <td>37</td>\n",
              "      <td>1</td>\n",
              "      <td>2</td>\n",
              "      <td>130</td>\n",
              "      <td>250</td>\n",
              "      <td>0</td>\n",
              "      <td>1</td>\n",
              "      <td>187</td>\n",
              "      <td>0</td>\n",
              "      <td>3.5</td>\n",
              "      <td>0</td>\n",
              "      <td>0</td>\n",
              "      <td>2</td>\n",
              "      <td>1</td>\n",
              "    </tr>\n",
              "    <tr>\n",
              "      <th>2</th>\n",
              "      <td>41</td>\n",
              "      <td>0</td>\n",
              "      <td>1</td>\n",
              "      <td>130</td>\n",
              "      <td>204</td>\n",
              "      <td>0</td>\n",
              "      <td>0</td>\n",
              "      <td>172</td>\n",
              "      <td>0</td>\n",
              "      <td>1.4</td>\n",
              "      <td>2</td>\n",
              "      <td>0</td>\n",
              "      <td>2</td>\n",
              "      <td>1</td>\n",
              "    </tr>\n",
              "    <tr>\n",
              "      <th>3</th>\n",
              "      <td>56</td>\n",
              "      <td>1</td>\n",
              "      <td>1</td>\n",
              "      <td>120</td>\n",
              "      <td>236</td>\n",
              "      <td>0</td>\n",
              "      <td>1</td>\n",
              "      <td>178</td>\n",
              "      <td>0</td>\n",
              "      <td>0.8</td>\n",
              "      <td>2</td>\n",
              "      <td>0</td>\n",
              "      <td>2</td>\n",
              "      <td>1</td>\n",
              "    </tr>\n",
              "    <tr>\n",
              "      <th>4</th>\n",
              "      <td>57</td>\n",
              "      <td>0</td>\n",
              "      <td>0</td>\n",
              "      <td>120</td>\n",
              "      <td>354</td>\n",
              "      <td>0</td>\n",
              "      <td>1</td>\n",
              "      <td>163</td>\n",
              "      <td>1</td>\n",
              "      <td>0.6</td>\n",
              "      <td>2</td>\n",
              "      <td>0</td>\n",
              "      <td>2</td>\n",
              "      <td>1</td>\n",
              "    </tr>\n",
              "    <tr>\n",
              "      <th>...</th>\n",
              "      <td>...</td>\n",
              "      <td>...</td>\n",
              "      <td>...</td>\n",
              "      <td>...</td>\n",
              "      <td>...</td>\n",
              "      <td>...</td>\n",
              "      <td>...</td>\n",
              "      <td>...</td>\n",
              "      <td>...</td>\n",
              "      <td>...</td>\n",
              "      <td>...</td>\n",
              "      <td>...</td>\n",
              "      <td>...</td>\n",
              "      <td>...</td>\n",
              "    </tr>\n",
              "    <tr>\n",
              "      <th>298</th>\n",
              "      <td>57</td>\n",
              "      <td>0</td>\n",
              "      <td>0</td>\n",
              "      <td>140</td>\n",
              "      <td>241</td>\n",
              "      <td>0</td>\n",
              "      <td>1</td>\n",
              "      <td>123</td>\n",
              "      <td>1</td>\n",
              "      <td>0.2</td>\n",
              "      <td>1</td>\n",
              "      <td>0</td>\n",
              "      <td>3</td>\n",
              "      <td>0</td>\n",
              "    </tr>\n",
              "    <tr>\n",
              "      <th>299</th>\n",
              "      <td>45</td>\n",
              "      <td>1</td>\n",
              "      <td>3</td>\n",
              "      <td>110</td>\n",
              "      <td>264</td>\n",
              "      <td>0</td>\n",
              "      <td>1</td>\n",
              "      <td>132</td>\n",
              "      <td>0</td>\n",
              "      <td>1.2</td>\n",
              "      <td>1</td>\n",
              "      <td>0</td>\n",
              "      <td>3</td>\n",
              "      <td>0</td>\n",
              "    </tr>\n",
              "    <tr>\n",
              "      <th>300</th>\n",
              "      <td>68</td>\n",
              "      <td>1</td>\n",
              "      <td>0</td>\n",
              "      <td>144</td>\n",
              "      <td>193</td>\n",
              "      <td>1</td>\n",
              "      <td>1</td>\n",
              "      <td>141</td>\n",
              "      <td>0</td>\n",
              "      <td>3.4</td>\n",
              "      <td>1</td>\n",
              "      <td>2</td>\n",
              "      <td>3</td>\n",
              "      <td>0</td>\n",
              "    </tr>\n",
              "    <tr>\n",
              "      <th>301</th>\n",
              "      <td>57</td>\n",
              "      <td>1</td>\n",
              "      <td>0</td>\n",
              "      <td>130</td>\n",
              "      <td>131</td>\n",
              "      <td>0</td>\n",
              "      <td>1</td>\n",
              "      <td>115</td>\n",
              "      <td>1</td>\n",
              "      <td>1.2</td>\n",
              "      <td>1</td>\n",
              "      <td>1</td>\n",
              "      <td>3</td>\n",
              "      <td>0</td>\n",
              "    </tr>\n",
              "    <tr>\n",
              "      <th>302</th>\n",
              "      <td>57</td>\n",
              "      <td>0</td>\n",
              "      <td>1</td>\n",
              "      <td>130</td>\n",
              "      <td>236</td>\n",
              "      <td>0</td>\n",
              "      <td>0</td>\n",
              "      <td>174</td>\n",
              "      <td>0</td>\n",
              "      <td>0.0</td>\n",
              "      <td>1</td>\n",
              "      <td>1</td>\n",
              "      <td>2</td>\n",
              "      <td>0</td>\n",
              "    </tr>\n",
              "  </tbody>\n",
              "</table>\n",
              "<p>303 rows × 14 columns</p>\n",
              "</div>"
            ],
            "text/plain": [
              "     age  sex  cp  trtbps  chol  fbs  ...  exng  oldpeak  slp  caa  thall  output\n",
              "0     63    1   3     145   233    1  ...     0      2.3    0    0      1       1\n",
              "1     37    1   2     130   250    0  ...     0      3.5    0    0      2       1\n",
              "2     41    0   1     130   204    0  ...     0      1.4    2    0      2       1\n",
              "3     56    1   1     120   236    0  ...     0      0.8    2    0      2       1\n",
              "4     57    0   0     120   354    0  ...     1      0.6    2    0      2       1\n",
              "..   ...  ...  ..     ...   ...  ...  ...   ...      ...  ...  ...    ...     ...\n",
              "298   57    0   0     140   241    0  ...     1      0.2    1    0      3       0\n",
              "299   45    1   3     110   264    0  ...     0      1.2    1    0      3       0\n",
              "300   68    1   0     144   193    1  ...     0      3.4    1    2      3       0\n",
              "301   57    1   0     130   131    0  ...     1      1.2    1    1      3       0\n",
              "302   57    0   1     130   236    0  ...     0      0.0    1    1      2       0\n",
              "\n",
              "[303 rows x 14 columns]"
            ]
          },
          "metadata": {
            "tags": []
          },
          "execution_count": 20
        }
      ]
    },
    {
      "cell_type": "code",
      "metadata": {
        "colab": {
          "base_uri": "https://localhost:8080/"
        },
        "id": "IrnO-SSNQkan",
        "outputId": "ab251cf0-38b7-4540-f273-42c668ceed78"
      },
      "source": [
        "data['output'].value_counts()"
      ],
      "execution_count": null,
      "outputs": [
        {
          "output_type": "execute_result",
          "data": {
            "text/plain": [
              "1    165\n",
              "0    138\n",
              "Name: output, dtype: int64"
            ]
          },
          "metadata": {
            "tags": []
          },
          "execution_count": 21
        }
      ]
    },
    {
      "cell_type": "code",
      "metadata": {
        "id": "UuAdG0LBQkCt"
      },
      "source": [
        ""
      ],
      "execution_count": null,
      "outputs": []
    },
    {
      "cell_type": "code",
      "metadata": {
        "id": "Epxz2fAeP-5a"
      },
      "source": [
        "heat = data.corr()"
      ],
      "execution_count": null,
      "outputs": []
    },
    {
      "cell_type": "code",
      "metadata": {
        "colab": {
          "base_uri": "https://localhost:8080/",
          "height": 429
        },
        "id": "vIfLcwKGQEbn",
        "outputId": "407697a6-484e-42b5-d1cb-2fe9ede386d1"
      },
      "source": [
        "\n",
        "plt.figure(figsize=(12,6))\n",
        "sns.heatmap(heat,cmap='coolwarm',annot=True)"
      ],
      "execution_count": null,
      "outputs": [
        {
          "output_type": "execute_result",
          "data": {
            "text/plain": [
              "<matplotlib.axes._subplots.AxesSubplot at 0x7f0bb15bfb50>"
            ]
          },
          "metadata": {
            "tags": []
          },
          "execution_count": 23
        },
        {
          "output_type": "display_data",
          "data": {
            "image/png": "[encoded data removed]",
            "text/plain": [
              "<Figure size 864x432 with 2 Axes>"
            ]
          },
          "metadata": {
            "tags": [],
            "needs_background": "light"
          }
        }
      ]
    },
    {
      "cell_type": "code",
      "metadata": {
        "id": "NQbUcRkfQJ0s"
      },
      "source": [
        "X = data[['cp' , 'restecg' , 'thalachh' ,  'slp']]\n",
        "y = data[['output']]"
      ],
      "execution_count": null,
      "outputs": []
    },
    {
      "cell_type": "code",
      "metadata": {
        "id": "6bRNm1-CRPs0"
      },
      "source": [
        ""
      ],
      "execution_count": null,
      "outputs": []
    },
    {
      "cell_type": "code",
      "metadata": {
        "colab": {
          "base_uri": "https://localhost:8080/"
        },
        "id": "9ATCFe7SSNJM",
        "outputId": "5a6c2983-792c-481e-cd96-c403a5a10798"
      },
      "source": [
        "X.dtypes "
      ],
      "execution_count": null,
      "outputs": [
        {
          "output_type": "execute_result",
          "data": {
            "text/plain": [
              "cp          int64\n",
              "restecg     int64\n",
              "thalachh    int64\n",
              "slp         int64\n",
              "dtype: object"
            ]
          },
          "metadata": {
            "tags": []
          },
          "execution_count": 25
        }
      ]
    },
    {
      "cell_type": "code",
      "metadata": {
        "colab": {
          "base_uri": "https://localhost:8080/"
        },
        "id": "mj-5V8PiSUv3",
        "outputId": "26b20f6a-28eb-4803-fea3-9aa76acf6b63"
      },
      "source": [
        "y.dtypes"
      ],
      "execution_count": null,
      "outputs": [
        {
          "output_type": "execute_result",
          "data": {
            "text/plain": [
              "output    int64\n",
              "dtype: object"
            ]
          },
          "metadata": {
            "tags": []
          },
          "execution_count": 26
        }
      ]
    },
    {
      "cell_type": "code",
      "metadata": {
        "colab": {
          "base_uri": "https://localhost:8080/"
        },
        "id": "ZkjS_5NbSbKC",
        "outputId": "7441e3da-6872-456b-f37d-c6c68d2907a7"
      },
      "source": [
        "X.isnull().sum()"
      ],
      "execution_count": null,
      "outputs": [
        {
          "output_type": "execute_result",
          "data": {
            "text/plain": [
              "cp          0\n",
              "restecg     0\n",
              "thalachh    0\n",
              "slp         0\n",
              "dtype: int64"
            ]
          },
          "metadata": {
            "tags": []
          },
          "execution_count": 27
        }
      ]
    },
    {
      "cell_type": "code",
      "metadata": {
        "colab": {
          "base_uri": "https://localhost:8080/"
        },
        "id": "pcJkG3JpSfwV",
        "outputId": "64a188f5-dc3d-410d-ae20-5e03f8c40bf4"
      },
      "source": [
        "y.isnull().sum()"
      ],
      "execution_count": null,
      "outputs": [
        {
          "output_type": "execute_result",
          "data": {
            "text/plain": [
              "output    0\n",
              "dtype: int64"
            ]
          },
          "metadata": {
            "tags": []
          },
          "execution_count": 28
        }
      ]
    },
    {
      "cell_type": "code",
      "metadata": {
        "colab": {
          "base_uri": "https://localhost:8080/"
        },
        "id": "mNnmPg_FSi1Y",
        "outputId": "3bc83670-f965-4ca6-81d7-f8bb2c3e6b02"
      },
      "source": [
        "from sklearn.preprocessing import MinMaxScaler\n",
        "\n",
        "scaled = MinMaxScaler()\n",
        "\n",
        "\n",
        "X = scaled.fit_transform(X)\n",
        "y = scaled.fit_transform(y)\n",
        "\n",
        "\n",
        "print(X.shape)\n",
        "print(y.shape)"
      ],
      "execution_count": null,
      "outputs": [
        {
          "output_type": "stream",
          "text": [
            "(303, 4)\n",
            "(303, 1)\n"
          ],
          "name": "stdout"
        }
      ]
    },
    {
      "cell_type": "code",
      "metadata": {
        "id": "nW9nRY0BSxZm"
      },
      "source": [
        "from sklearn.model_selection import train_test_split\n",
        "\n",
        "X_train, X_test, y_train, y_test = train_test_split(X, y, test_size=0.33, random_state=42)"
      ],
      "execution_count": null,
      "outputs": []
    },
    {
      "cell_type": "code",
      "metadata": {
        "colab": {
          "base_uri": "https://localhost:8080/"
        },
        "id": "wo1gmzxhTENg",
        "outputId": "c0182c7c-fd1c-48f9-cf7f-4e1e7c030be7"
      },
      "source": [
        "from sklearn import svm\n",
        "\n",
        "model_svm_class = svm.SVC()\n",
        "\n",
        "model_svm_class.fit(X_train , y_train)"
      ],
      "execution_count": null,
      "outputs": [
        {
          "output_type": "stream",
          "text": [
            "/usr/local/lib/python3.7/dist-packages/sklearn/utils/validation.py:760: DataConversionWarning: A column-vector y was passed when a 1d array was expected. Please change the shape of y to (n_samples, ), for example using ravel().\n",
            "  y = column_or_1d(y, warn=True)\n"
          ],
          "name": "stderr"
        },
        {
          "output_type": "execute_result",
          "data": {
            "text/plain": [
              "SVC(C=1.0, break_ties=False, cache_size=200, class_weight=None, coef0=0.0,\n",
              "    decision_function_shape='ovr', degree=3, gamma='scale', kernel='rbf',\n",
              "    max_iter=-1, probability=False, random_state=None, shrinking=True,\n",
              "    tol=0.001, verbose=False)"
            ]
          },
          "metadata": {
            "tags": []
          },
          "execution_count": 31
        }
      ]
    },
    {
      "cell_type": "code",
      "metadata": {
        "id": "M35JUdCTTfUw"
      },
      "source": [
        "y_pred_svm = model_svm_class.predict(X_test)"
      ],
      "execution_count": null,
      "outputs": []
    },
    {
      "cell_type": "code",
      "metadata": {
        "colab": {
          "base_uri": "https://localhost:8080/"
        },
        "id": "-fW1o77mU9-J",
        "outputId": "7d6da6ee-237b-4bb2-a994-4e1dd2f537a2"
      },
      "source": [
        "model_svm_class.score(X_test , y_test)"
      ],
      "execution_count": null,
      "outputs": [
        {
          "output_type": "execute_result",
          "data": {
            "text/plain": [
              "0.72"
            ]
          },
          "metadata": {
            "tags": []
          },
          "execution_count": 33
        }
      ]
    },
    {
      "cell_type": "code",
      "metadata": {
        "id": "towiWYBIWVLI"
      },
      "source": [
        "y_true = y_test.copy()"
      ],
      "execution_count": null,
      "outputs": []
    },
    {
      "cell_type": "code",
      "metadata": {
        "id": "oZV2OIgbXeSi"
      },
      "source": [
        "from sklearn.metrics import classification_report"
      ],
      "execution_count": null,
      "outputs": []
    },
    {
      "cell_type": "code",
      "metadata": {
        "id": "B2PtPG0ZaA6J"
      },
      "source": [
        "report  =classification_report(y_true , y_pred_svm)"
      ],
      "execution_count": null,
      "outputs": []
    },
    {
      "cell_type": "code",
      "metadata": {
        "colab": {
          "base_uri": "https://localhost:8080/",
          "height": 69
        },
        "id": "3LraijzQaF65",
        "outputId": "f7abfed6-d479-49e5-cbe4-463560ae45a7"
      },
      "source": [
        "report"
      ],
      "execution_count": null,
      "outputs": [
        {
          "output_type": "execute_result",
          "data": {
            "application/vnd.google.colaboratory.intrinsic+json": {
              "type": "string"
            },
            "text/plain": [
              "'              precision    recall  f1-score   support\\n\\n         0.0       0.63      0.79      0.70        42\\n         1.0       0.81      0.67      0.74        58\\n\\n    accuracy                           0.72       100\\n   macro avg       0.72      0.73      0.72       100\\nweighted avg       0.74      0.72      0.72       100\\n'"
            ]
          },
          "metadata": {
            "tags": []
          },
          "execution_count": 37
        }
      ]
    },
    {
      "cell_type": "code",
      "metadata": {
        "id": "ez74Cj3maOCu"
      },
      "source": [
        "# sns.heatmap(report ,  annot=True)"
      ],
      "execution_count": null,
      "outputs": []
    },
    {
      "cell_type": "code",
      "metadata": {
        "colab": {
          "base_uri": "https://localhost:8080/"
        },
        "id": "CUN19nTraXSR",
        "outputId": "bd8fbc8d-bad1-4162-93da-3bb2ec3309c7"
      },
      "source": [
        "from sklearn.metrics import accuracy_score\n",
        "\n",
        "\n",
        "\n",
        "print('accuracy score: ' , accuracy_score(y_true , y_pred_svm))"
      ],
      "execution_count": null,
      "outputs": [
        {
          "output_type": "stream",
          "text": [
            "accuracy score:  0.72\n"
          ],
          "name": "stdout"
        }
      ]
    },
    {
      "cell_type": "code",
      "metadata": {
        "id": "00kYNQD2aXUM"
      },
      "source": [
        "# plt.plot(np.arange(len(y_true)) , y_true)\n",
        "\n",
        "\n",
        "from sklearn.metrics import confusion_matrix"
      ],
      "execution_count": null,
      "outputs": []
    },
    {
      "cell_type": "code",
      "metadata": {
        "colab": {
          "base_uri": "https://localhost:8080/"
        },
        "id": "6oDZCmcvaXWU",
        "outputId": "f985c5f7-f6e5-48ec-8c87-918b39ce907e"
      },
      "source": [
        "confusion_matrix(y_test, y_pred_svm)"
      ],
      "execution_count": null,
      "outputs": [
        {
          "output_type": "execute_result",
          "data": {
            "text/plain": [
              "array([[33,  9],\n",
              "       [19, 39]])"
            ]
          },
          "metadata": {
            "tags": []
          },
          "execution_count": 58
        }
      ]
    },
    {
      "cell_type": "code",
      "metadata": {
        "id": "0QnZpIeAlPyA"
      },
      "source": [
        "from sklearn.metrics import  plot_confusion_matrixs"
      ],
      "execution_count": null,
      "outputs": []
    },
    {
      "cell_type": "code",
      "metadata": {
        "colab": {
          "base_uri": "https://localhost:8080/",
          "height": 279
        },
        "id": "kavvOSnPaXYL",
        "outputId": "65346472-2b13-44f7-c600-fdbf4f722621"
      },
      "source": [
        "matrix = plot_confusion_matrix(model_svm_class , X_test , y_test)\n"
      ],
      "execution_count": null,
      "outputs": [
        {
          "output_type": "display_data",
          "data": {
            "image/png": "[encoded data removed]",
            "text/plain": [
              "<Figure size 432x288 with 2 Axes>"
            ]
          },
          "metadata": {
            "tags": [],
            "needs_background": "light"
          }
        }
      ]
    },
    {
      "cell_type": "code",
      "metadata": {
        "id": "a_Mb61CXaXZ-"
      },
      "source": [
        ""
      ],
      "execution_count": null,
      "outputs": []
    },
    {
      "cell_type": "markdown",
      "metadata": {
        "id": "J6W02ssQ-DqM"
      },
      "source": [
        "# Random Forest"
      ]
    },
    {
      "cell_type": "code",
      "metadata": {
        "colab": {
          "base_uri": "https://localhost:8080/"
        },
        "id": "lB22bQ0gaXcE",
        "outputId": "9f27100e-7a98-4e79-d6c2-d0dbc2ab4fe4"
      },
      "source": [
        "from sklearn.ensemble import RandomForestClassifier\n",
        "from sklearn.datasets import make_classification\n",
        "X, y = make_classification(n_samples=1000, n_features=4,\n",
        "                            n_informative=2, n_redundant=0,\n",
        "                           random_state=0, shuffle=False)\n",
        "\n",
        "\n",
        "\n",
        "clf = RandomForestClassifier(max_depth=2, random_state=0)\n",
        "clf.fit(X_train, y_train)"
      ],
      "execution_count": null,
      "outputs": [
        {
          "output_type": "stream",
          "text": [
            "/usr/local/lib/python3.7/dist-packages/ipykernel_launcher.py:10: DataConversionWarning: A column-vector y was passed when a 1d array was expected. Please change the shape of y to (n_samples,), for example using ravel().\n",
            "  # Remove the CWD from sys.path while we load stuff.\n"
          ],
          "name": "stderr"
        },
        {
          "output_type": "execute_result",
          "data": {
            "text/plain": [
              "RandomForestClassifier(bootstrap=True, ccp_alpha=0.0, class_weight=None,\n",
              "                       criterion='gini', max_depth=2, max_features='auto',\n",
              "                       max_leaf_nodes=None, max_samples=None,\n",
              "                       min_impurity_decrease=0.0, min_impurity_split=None,\n",
              "                       min_samples_leaf=1, min_samples_split=2,\n",
              "                       min_weight_fraction_leaf=0.0, n_estimators=100,\n",
              "                       n_jobs=None, oob_score=False, random_state=0, verbose=0,\n",
              "                       warm_start=False)"
            ]
          },
          "metadata": {
            "tags": []
          },
          "execution_count": 67
        }
      ]
    },
    {
      "cell_type": "code",
      "metadata": {
        "id": "CnL2RkpJaXdh"
      },
      "source": [
        "clf_predict = clf.predict(X_test)"
      ],
      "execution_count": null,
      "outputs": []
    },
    {
      "cell_type": "code",
      "metadata": {
        "colab": {
          "base_uri": "https://localhost:8080/"
        },
        "id": "_ab1XYwEaXfd",
        "outputId": "1cba3a30-2690-448a-9a1e-1a1a66127084"
      },
      "source": [
        "print('accuracy score: ' , accuracy_score(y_true ,clf_predict))"
      ],
      "execution_count": null,
      "outputs": [
        {
          "output_type": "stream",
          "text": [
            "accuracy score:  0.76\n"
          ],
          "name": "stdout"
        }
      ]
    },
    {
      "cell_type": "markdown",
      "metadata": {
        "id": "-Z7uDX6KpBfg"
      },
      "source": [
        "# Naive bayees\n"
      ]
    },
    {
      "cell_type": "code",
      "metadata": {
        "id": "H97hqrquaXha"
      },
      "source": [
        "from sklearn.naive_bayes import GaussianNB"
      ],
      "execution_count": null,
      "outputs": []
    },
    {
      "cell_type": "code",
      "metadata": {
        "colab": {
          "base_uri": "https://localhost:8080/"
        },
        "id": "T7OXexa4poU_",
        "outputId": "203b63e6-9bce-4d42-c8d3-9d00263278a6"
      },
      "source": [
        "y_train_naive = y_train.ravel()\n",
        "y_train_naive.shape"
      ],
      "execution_count": null,
      "outputs": [
        {
          "output_type": "execute_result",
          "data": {
            "text/plain": [
              "(203,)"
            ]
          },
          "metadata": {
            "tags": []
          },
          "execution_count": 75
        }
      ]
    },
    {
      "cell_type": "code",
      "metadata": {
        "colab": {
          "base_uri": "https://localhost:8080/"
        },
        "id": "T0EcHKwZpbXw",
        "outputId": "e50575cf-8ff8-46a4-ae5d-e6d2e269aa13"
      },
      "source": [
        "naive_bay = GaussianNB()\n",
        "\n",
        "naive_bay.fit(X_train , y_train_naive)"
      ],
      "execution_count": null,
      "outputs": [
        {
          "output_type": "execute_result",
          "data": {
            "text/plain": [
              "GaussianNB(priors=None, var_smoothing=1e-09)"
            ]
          },
          "metadata": {
            "tags": []
          },
          "execution_count": 76
        }
      ]
    },
    {
      "cell_type": "code",
      "metadata": {
        "colab": {
          "base_uri": "https://localhost:8080/"
        },
        "id": "ILKMHGCvpbZ_",
        "outputId": "4cf761a1-b37b-4dcc-e2c0-325cd0093608"
      },
      "source": [
        "naive_bay.score(X_test , y_test)"
      ],
      "execution_count": null,
      "outputs": [
        {
          "output_type": "execute_result",
          "data": {
            "text/plain": [
              "0.75"
            ]
          },
          "metadata": {
            "tags": []
          },
          "execution_count": 77
        }
      ]
    },
    {
      "cell_type": "code",
      "metadata": {
        "id": "EamXjtDapbcM"
      },
      "source": [
        ""
      ],
      "execution_count": null,
      "outputs": []
    },
    {
      "cell_type": "code",
      "metadata": {
        "id": "H8TPGNzVpbeI"
      },
      "source": [
        ""
      ],
      "execution_count": null,
      "outputs": []
    },
    {
      "cell_type": "code",
      "metadata": {
        "id": "oIvgRcn3pbgR"
      },
      "source": [
        ""
      ],
      "execution_count": null,
      "outputs": []
    },
    {
      "cell_type": "markdown",
      "metadata": {
        "id": "EHKGESyIaQvM"
      },
      "source": [
        "# Neural Network"
      ]
    },
    {
      "cell_type": "code",
      "metadata": {
        "id": "gZF9AFUWaUW5"
      },
      "source": [
        "# sns.heatmap(pd.DataFrame(report).iloc[:-1, :].T, annot=True)"
      ],
      "execution_count": null,
      "outputs": []
    },
    {
      "cell_type": "code",
      "metadata": {
        "id": "MbKiwLZ7afGm"
      },
      "source": [
        "import keras\n",
        "\n",
        "from keras.models import Sequential\n",
        "\n",
        "from keras.layers import Dense"
      ],
      "execution_count": null,
      "outputs": []
    },
    {
      "cell_type": "code",
      "metadata": {
        "colab": {
          "base_uri": "https://localhost:8080/"
        },
        "id": "uLA21SJ0nwab",
        "outputId": "71198692-2dde-4296-8479-602b806c84dd"
      },
      "source": [
        "X_train.shape"
      ],
      "execution_count": null,
      "outputs": [
        {
          "output_type": "execute_result",
          "data": {
            "text/plain": [
              "(203, 4)"
            ]
          },
          "metadata": {
            "tags": []
          },
          "execution_count": 42
        }
      ]
    },
    {
      "cell_type": "code",
      "metadata": {
        "colab": {
          "base_uri": "https://localhost:8080/"
        },
        "id": "Khmx3062nydr",
        "outputId": "41e44214-eca1-40ac-891c-6e2649b01a90"
      },
      "source": [
        "model = Sequential()\n",
        "model.add(Dense(20, input_dim=4, activation='sigmoid', kernel_initializer='he_normal'))\n",
        "model.add(Dense(10, activation='sigmoid', kernel_initializer='he_normal'))\n",
        "model.add(Dense(1, activation='sigmoid'))\n",
        "\n",
        "\n",
        "\n",
        "\n",
        "model.compile(loss='binary_crossentropy', optimizer='adam')\n",
        "\n",
        "\n",
        "model.fit(X_train, y_train, epochs=500, batch_size=32, verbose=1)\n",
        "\n"
      ],
      "execution_count": null,
      "outputs": [
        {
          "output_type": "stream",
          "text": [
            "Epoch 1/500\n",
            "7/7 [==============================] - 1s 3ms/step - loss: 0.6880\n",
            "Epoch 2/500\n",
            "7/7 [==============================] - 0s 3ms/step - loss: 0.6909\n",
            "Epoch 3/500\n",
            "7/7 [==============================] - 0s 4ms/step - loss: 0.6844\n",
            "Epoch 4/500\n",
            "7/7 [==============================] - 0s 3ms/step - loss: 0.6831\n",
            "Epoch 5/500\n",
            "7/7 [==============================] - 0s 5ms/step - loss: 0.6819\n",
            "Epoch 6/500\n",
            "7/7 [==============================] - 0s 3ms/step - loss: 0.6806\n",
            "Epoch 7/500\n",
            "7/7 [==============================] - 0s 3ms/step - loss: 0.6737\n",
            "Epoch 8/500\n",
            "7/7 [==============================] - 0s 3ms/step - loss: 0.6769\n",
            "Epoch 9/500\n",
            "7/7 [==============================] - 0s 3ms/step - loss: 0.6773\n",
            "Epoch 10/500\n",
            "7/7 [==============================] - 0s 3ms/step - loss: 0.6763\n",
            "Epoch 11/500\n",
            "7/7 [==============================] - 0s 4ms/step - loss: 0.6703\n",
            "Epoch 12/500\n",
            "7/7 [==============================] - 0s 2ms/step - loss: 0.6740\n",
            "Epoch 13/500\n",
            "7/7 [==============================] - 0s 3ms/step - loss: 0.6733\n",
            "Epoch 14/500\n",
            "7/7 [==============================] - 0s 3ms/step - loss: 0.6701\n",
            "Epoch 15/500\n",
            "7/7 [==============================] - 0s 3ms/step - loss: 0.6754\n",
            "Epoch 16/500\n",
            "7/7 [==============================] - 0s 3ms/step - loss: 0.6742\n",
            "Epoch 17/500\n",
            "7/7 [==============================] - 0s 3ms/step - loss: 0.6723\n",
            "Epoch 18/500\n",
            "7/7 [==============================] - 0s 2ms/step - loss: 0.6749\n",
            "Epoch 19/500\n",
            "7/7 [==============================] - 0s 4ms/step - loss: 0.6693\n",
            "Epoch 20/500\n",
            "7/7 [==============================] - 0s 3ms/step - loss: 0.6692\n",
            "Epoch 21/500\n",
            "7/7 [==============================] - 0s 3ms/step - loss: 0.6614\n",
            "Epoch 22/500\n",
            "7/7 [==============================] - 0s 3ms/step - loss: 0.6719\n",
            "Epoch 23/500\n",
            "7/7 [==============================] - 0s 3ms/step - loss: 0.6633\n",
            "Epoch 24/500\n",
            "7/7 [==============================] - 0s 3ms/step - loss: 0.6637\n",
            "Epoch 25/500\n",
            "7/7 [==============================] - 0s 4ms/step - loss: 0.6716\n",
            "Epoch 26/500\n",
            "7/7 [==============================] - 0s 3ms/step - loss: 0.6645\n",
            "Epoch 27/500\n",
            "7/7 [==============================] - 0s 4ms/step - loss: 0.6625\n",
            "Epoch 28/500\n",
            "7/7 [==============================] - 0s 3ms/step - loss: 0.6550\n",
            "Epoch 29/500\n",
            "7/7 [==============================] - 0s 3ms/step - loss: 0.6602\n",
            "Epoch 30/500\n",
            "7/7 [==============================] - 0s 3ms/step - loss: 0.6637\n",
            "Epoch 31/500\n",
            "7/7 [==============================] - 0s 3ms/step - loss: 0.6670\n",
            "Epoch 32/500\n",
            "7/7 [==============================] - 0s 3ms/step - loss: 0.6623\n",
            "Epoch 33/500\n",
            "7/7 [==============================] - 0s 4ms/step - loss: 0.6546\n",
            "Epoch 34/500\n",
            "7/7 [==============================] - 0s 4ms/step - loss: 0.6530\n",
            "Epoch 35/500\n",
            "7/7 [==============================] - 0s 5ms/step - loss: 0.6537\n",
            "Epoch 36/500\n",
            "7/7 [==============================] - 0s 4ms/step - loss: 0.6526\n",
            "Epoch 37/500\n",
            "7/7 [==============================] - 0s 5ms/step - loss: 0.6516\n",
            "Epoch 38/500\n",
            "7/7 [==============================] - 0s 3ms/step - loss: 0.6496\n",
            "Epoch 39/500\n",
            "7/7 [==============================] - 0s 4ms/step - loss: 0.6472\n",
            "Epoch 40/500\n",
            "7/7 [==============================] - 0s 4ms/step - loss: 0.6535\n",
            "Epoch 41/500\n",
            "7/7 [==============================] - 0s 3ms/step - loss: 0.6361\n",
            "Epoch 42/500\n",
            "7/7 [==============================] - 0s 4ms/step - loss: 0.6507\n",
            "Epoch 43/500\n",
            "7/7 [==============================] - 0s 4ms/step - loss: 0.6468\n",
            "Epoch 44/500\n",
            "7/7 [==============================] - 0s 3ms/step - loss: 0.6410\n",
            "Epoch 45/500\n",
            "7/7 [==============================] - 0s 4ms/step - loss: 0.6379\n",
            "Epoch 46/500\n",
            "7/7 [==============================] - 0s 3ms/step - loss: 0.6419\n",
            "Epoch 47/500\n",
            "7/7 [==============================] - 0s 4ms/step - loss: 0.6501\n",
            "Epoch 48/500\n",
            "7/7 [==============================] - 0s 4ms/step - loss: 0.6400\n",
            "Epoch 49/500\n",
            "7/7 [==============================] - 0s 4ms/step - loss: 0.6407\n",
            "Epoch 50/500\n",
            "7/7 [==============================] - 0s 3ms/step - loss: 0.6372\n",
            "Epoch 51/500\n",
            "7/7 [==============================] - 0s 3ms/step - loss: 0.6258\n",
            "Epoch 52/500\n",
            "7/7 [==============================] - 0s 4ms/step - loss: 0.6274\n",
            "Epoch 53/500\n",
            "7/7 [==============================] - 0s 3ms/step - loss: 0.6276\n",
            "Epoch 54/500\n",
            "7/7 [==============================] - 0s 3ms/step - loss: 0.6275\n",
            "Epoch 55/500\n",
            "7/7 [==============================] - 0s 3ms/step - loss: 0.6235\n",
            "Epoch 56/500\n",
            "7/7 [==============================] - 0s 2ms/step - loss: 0.6256\n",
            "Epoch 57/500\n",
            "7/7 [==============================] - 0s 2ms/step - loss: 0.6283\n",
            "Epoch 58/500\n",
            "7/7 [==============================] - 0s 3ms/step - loss: 0.6272\n",
            "Epoch 59/500\n",
            "7/7 [==============================] - 0s 3ms/step - loss: 0.6215\n",
            "Epoch 60/500\n",
            "7/7 [==============================] - 0s 2ms/step - loss: 0.6161\n",
            "Epoch 61/500\n",
            "7/7 [==============================] - 0s 3ms/step - loss: 0.6222\n",
            "Epoch 62/500\n",
            "7/7 [==============================] - 0s 2ms/step - loss: 0.6132\n",
            "Epoch 63/500\n",
            "7/7 [==============================] - 0s 3ms/step - loss: 0.6277\n",
            "Epoch 64/500\n",
            "7/7 [==============================] - 0s 3ms/step - loss: 0.6180\n",
            "Epoch 65/500\n",
            "7/7 [==============================] - 0s 4ms/step - loss: 0.6321\n",
            "Epoch 66/500\n",
            "7/7 [==============================] - 0s 4ms/step - loss: 0.6055\n",
            "Epoch 67/500\n",
            "7/7 [==============================] - 0s 2ms/step - loss: 0.6111\n",
            "Epoch 68/500\n",
            "7/7 [==============================] - 0s 3ms/step - loss: 0.6135\n",
            "Epoch 69/500\n",
            "7/7 [==============================] - 0s 3ms/step - loss: 0.6132\n",
            "Epoch 70/500\n",
            "7/7 [==============================] - 0s 3ms/step - loss: 0.5997\n",
            "Epoch 71/500\n",
            "7/7 [==============================] - 0s 3ms/step - loss: 0.6094\n",
            "Epoch 72/500\n",
            "7/7 [==============================] - 0s 3ms/step - loss: 0.5856\n",
            "Epoch 73/500\n",
            "7/7 [==============================] - 0s 2ms/step - loss: 0.5914\n",
            "Epoch 74/500\n",
            "7/7 [==============================] - 0s 3ms/step - loss: 0.5967\n",
            "Epoch 75/500\n",
            "7/7 [==============================] - 0s 3ms/step - loss: 0.5935\n",
            "Epoch 76/500\n",
            "7/7 [==============================] - 0s 4ms/step - loss: 0.6054\n",
            "Epoch 77/500\n",
            "7/7 [==============================] - 0s 3ms/step - loss: 0.5948\n",
            "Epoch 78/500\n",
            "7/7 [==============================] - 0s 3ms/step - loss: 0.5841\n",
            "Epoch 79/500\n",
            "7/7 [==============================] - 0s 3ms/step - loss: 0.5885\n",
            "Epoch 80/500\n",
            "7/7 [==============================] - 0s 4ms/step - loss: 0.5849\n",
            "Epoch 81/500\n",
            "7/7 [==============================] - 0s 2ms/step - loss: 0.5927\n",
            "Epoch 82/500\n",
            "7/7 [==============================] - 0s 3ms/step - loss: 0.5909\n",
            "Epoch 83/500\n",
            "7/7 [==============================] - 0s 3ms/step - loss: 0.5745\n",
            "Epoch 84/500\n",
            "7/7 [==============================] - 0s 3ms/step - loss: 0.6013\n",
            "Epoch 85/500\n",
            "7/7 [==============================] - 0s 3ms/step - loss: 0.6025\n",
            "Epoch 86/500\n",
            "7/7 [==============================] - 0s 3ms/step - loss: 0.5707\n",
            "Epoch 87/500\n",
            "7/7 [==============================] - 0s 3ms/step - loss: 0.5713\n",
            "Epoch 88/500\n",
            "7/7 [==============================] - 0s 4ms/step - loss: 0.5828\n",
            "Epoch 89/500\n",
            "7/7 [==============================] - 0s 6ms/step - loss: 0.5770\n",
            "Epoch 90/500\n",
            "7/7 [==============================] - 0s 3ms/step - loss: 0.5755\n",
            "Epoch 91/500\n",
            "7/7 [==============================] - 0s 3ms/step - loss: 0.5644\n",
            "Epoch 92/500\n",
            "7/7 [==============================] - 0s 3ms/step - loss: 0.5654\n",
            "Epoch 93/500\n",
            "7/7 [==============================] - 0s 3ms/step - loss: 0.5747\n",
            "Epoch 94/500\n",
            "7/7 [==============================] - 0s 3ms/step - loss: 0.5626\n",
            "Epoch 95/500\n",
            "7/7 [==============================] - 0s 3ms/step - loss: 0.5884\n",
            "Epoch 96/500\n",
            "7/7 [==============================] - 0s 3ms/step - loss: 0.5482\n",
            "Epoch 97/500\n",
            "7/7 [==============================] - 0s 2ms/step - loss: 0.5618\n",
            "Epoch 98/500\n",
            "7/7 [==============================] - 0s 6ms/step - loss: 0.5590\n",
            "Epoch 99/500\n",
            "7/7 [==============================] - 0s 2ms/step - loss: 0.5601\n",
            "Epoch 100/500\n",
            "7/7 [==============================] - 0s 3ms/step - loss: 0.5543\n",
            "Epoch 101/500\n",
            "7/7 [==============================] - 0s 2ms/step - loss: 0.5696\n",
            "Epoch 102/500\n",
            "7/7 [==============================] - 0s 4ms/step - loss: 0.5610\n",
            "Epoch 103/500\n",
            "7/7 [==============================] - 0s 2ms/step - loss: 0.5553\n",
            "Epoch 104/500\n",
            "7/7 [==============================] - 0s 2ms/step - loss: 0.5598\n",
            "Epoch 105/500\n",
            "7/7 [==============================] - 0s 2ms/step - loss: 0.5556\n",
            "Epoch 106/500\n",
            "7/7 [==============================] - 0s 2ms/step - loss: 0.5494\n",
            "Epoch 107/500\n",
            "7/7 [==============================] - 0s 3ms/step - loss: 0.5402\n",
            "Epoch 108/500\n",
            "7/7 [==============================] - 0s 3ms/step - loss: 0.5616\n",
            "Epoch 109/500\n",
            "7/7 [==============================] - 0s 3ms/step - loss: 0.5500\n",
            "Epoch 110/500\n",
            "7/7 [==============================] - 0s 3ms/step - loss: 0.5508\n",
            "Epoch 111/500\n",
            "7/7 [==============================] - 0s 3ms/step - loss: 0.5180\n",
            "Epoch 112/500\n",
            "7/7 [==============================] - 0s 2ms/step - loss: 0.5330\n",
            "Epoch 113/500\n",
            "7/7 [==============================] - 0s 3ms/step - loss: 0.5553\n",
            "Epoch 114/500\n",
            "7/7 [==============================] - 0s 3ms/step - loss: 0.5475\n",
            "Epoch 115/500\n",
            "7/7 [==============================] - 0s 3ms/step - loss: 0.5403\n",
            "Epoch 116/500\n",
            "7/7 [==============================] - 0s 2ms/step - loss: 0.5488\n",
            "Epoch 117/500\n",
            "7/7 [==============================] - 0s 3ms/step - loss: 0.5425\n",
            "Epoch 118/500\n",
            "7/7 [==============================] - 0s 3ms/step - loss: 0.5375\n",
            "Epoch 119/500\n",
            "7/7 [==============================] - 0s 3ms/step - loss: 0.5480\n",
            "Epoch 120/500\n",
            "7/7 [==============================] - 0s 3ms/step - loss: 0.5334\n",
            "Epoch 121/500\n",
            "7/7 [==============================] - 0s 3ms/step - loss: 0.5466\n",
            "Epoch 122/500\n",
            "7/7 [==============================] - 0s 3ms/step - loss: 0.5519\n",
            "Epoch 123/500\n",
            "7/7 [==============================] - 0s 3ms/step - loss: 0.5461\n",
            "Epoch 124/500\n",
            "7/7 [==============================] - 0s 3ms/step - loss: 0.5567\n",
            "Epoch 125/500\n",
            "7/7 [==============================] - 0s 2ms/step - loss: 0.5179\n",
            "Epoch 126/500\n",
            "7/7 [==============================] - 0s 3ms/step - loss: 0.5416\n",
            "Epoch 127/500\n",
            "7/7 [==============================] - 0s 3ms/step - loss: 0.5316\n",
            "Epoch 128/500\n",
            "7/7 [==============================] - 0s 2ms/step - loss: 0.5513\n",
            "Epoch 129/500\n",
            "7/7 [==============================] - 0s 3ms/step - loss: 0.5295\n",
            "Epoch 130/500\n",
            "7/7 [==============================] - 0s 3ms/step - loss: 0.5180\n",
            "Epoch 131/500\n",
            "7/7 [==============================] - 0s 3ms/step - loss: 0.5226\n",
            "Epoch 132/500\n",
            "7/7 [==============================] - 0s 2ms/step - loss: 0.5423\n",
            "Epoch 133/500\n",
            "7/7 [==============================] - 0s 3ms/step - loss: 0.5155\n",
            "Epoch 134/500\n",
            "7/7 [==============================] - 0s 2ms/step - loss: 0.5230\n",
            "Epoch 135/500\n",
            "7/7 [==============================] - 0s 2ms/step - loss: 0.5330\n",
            "Epoch 136/500\n",
            "7/7 [==============================] - 0s 3ms/step - loss: 0.5479\n",
            "Epoch 137/500\n",
            "7/7 [==============================] - 0s 3ms/step - loss: 0.5304\n",
            "Epoch 138/500\n",
            "7/7 [==============================] - 0s 2ms/step - loss: 0.5272\n",
            "Epoch 139/500\n",
            "7/7 [==============================] - 0s 3ms/step - loss: 0.5386\n",
            "Epoch 140/500\n",
            "7/7 [==============================] - 0s 3ms/step - loss: 0.5091\n",
            "Epoch 141/500\n",
            "7/7 [==============================] - 0s 3ms/step - loss: 0.5313\n",
            "Epoch 142/500\n",
            "7/7 [==============================] - 0s 3ms/step - loss: 0.5171\n",
            "Epoch 143/500\n",
            "7/7 [==============================] - 0s 3ms/step - loss: 0.5395\n",
            "Epoch 144/500\n",
            "7/7 [==============================] - 0s 3ms/step - loss: 0.5252\n",
            "Epoch 145/500\n",
            "7/7 [==============================] - 0s 4ms/step - loss: 0.5277\n",
            "Epoch 146/500\n",
            "7/7 [==============================] - 0s 3ms/step - loss: 0.5224\n",
            "Epoch 147/500\n",
            "7/7 [==============================] - 0s 4ms/step - loss: 0.5319\n",
            "Epoch 148/500\n",
            "7/7 [==============================] - 0s 4ms/step - loss: 0.5180\n",
            "Epoch 149/500\n",
            "7/7 [==============================] - 0s 3ms/step - loss: 0.5540\n",
            "Epoch 150/500\n",
            "7/7 [==============================] - 0s 4ms/step - loss: 0.4993\n",
            "Epoch 151/500\n",
            "7/7 [==============================] - 0s 3ms/step - loss: 0.5360\n",
            "Epoch 152/500\n",
            "7/7 [==============================] - 0s 3ms/step - loss: 0.5155\n",
            "Epoch 153/500\n",
            "7/7 [==============================] - 0s 3ms/step - loss: 0.5259\n",
            "Epoch 154/500\n",
            "7/7 [==============================] - 0s 4ms/step - loss: 0.5405\n",
            "Epoch 155/500\n",
            "7/7 [==============================] - 0s 3ms/step - loss: 0.4957\n",
            "Epoch 156/500\n",
            "7/7 [==============================] - 0s 3ms/step - loss: 0.5123\n",
            "Epoch 157/500\n",
            "7/7 [==============================] - 0s 3ms/step - loss: 0.5140\n",
            "Epoch 158/500\n",
            "7/7 [==============================] - 0s 2ms/step - loss: 0.5322\n",
            "Epoch 159/500\n",
            "7/7 [==============================] - 0s 4ms/step - loss: 0.5634\n",
            "Epoch 160/500\n",
            "7/7 [==============================] - 0s 3ms/step - loss: 0.5157\n",
            "Epoch 161/500\n",
            "7/7 [==============================] - 0s 4ms/step - loss: 0.5221\n",
            "Epoch 162/500\n",
            "7/7 [==============================] - 0s 4ms/step - loss: 0.5625\n",
            "Epoch 163/500\n",
            "7/7 [==============================] - 0s 3ms/step - loss: 0.5320\n",
            "Epoch 164/500\n",
            "7/7 [==============================] - 0s 3ms/step - loss: 0.5246\n",
            "Epoch 165/500\n",
            "7/7 [==============================] - 0s 3ms/step - loss: 0.5159\n",
            "Epoch 166/500\n",
            "7/7 [==============================] - 0s 3ms/step - loss: 0.5497\n",
            "Epoch 167/500\n",
            "7/7 [==============================] - 0s 3ms/step - loss: 0.5127\n",
            "Epoch 168/500\n",
            "7/7 [==============================] - 0s 3ms/step - loss: 0.5142\n",
            "Epoch 169/500\n",
            "7/7 [==============================] - 0s 3ms/step - loss: 0.5212\n",
            "Epoch 170/500\n",
            "7/7 [==============================] - 0s 3ms/step - loss: 0.5307\n",
            "Epoch 171/500\n",
            "7/7 [==============================] - 0s 3ms/step - loss: 0.5301\n",
            "Epoch 172/500\n",
            "7/7 [==============================] - 0s 4ms/step - loss: 0.5648\n",
            "Epoch 173/500\n",
            "7/7 [==============================] - 0s 5ms/step - loss: 0.5184\n",
            "Epoch 174/500\n",
            "7/7 [==============================] - 0s 3ms/step - loss: 0.5360\n",
            "Epoch 175/500\n",
            "7/7 [==============================] - 0s 4ms/step - loss: 0.5155\n",
            "Epoch 176/500\n",
            "7/7 [==============================] - 0s 3ms/step - loss: 0.5301\n",
            "Epoch 177/500\n",
            "7/7 [==============================] - 0s 2ms/step - loss: 0.5203\n",
            "Epoch 178/500\n",
            "7/7 [==============================] - 0s 2ms/step - loss: 0.5160\n",
            "Epoch 179/500\n",
            "7/7 [==============================] - 0s 3ms/step - loss: 0.5651\n",
            "Epoch 180/500\n",
            "7/7 [==============================] - 0s 3ms/step - loss: 0.5231\n",
            "Epoch 181/500\n",
            "7/7 [==============================] - 0s 2ms/step - loss: 0.5013\n",
            "Epoch 182/500\n",
            "7/7 [==============================] - 0s 3ms/step - loss: 0.5053\n",
            "Epoch 183/500\n",
            "7/7 [==============================] - 0s 3ms/step - loss: 0.5318\n",
            "Epoch 184/500\n",
            "7/7 [==============================] - 0s 2ms/step - loss: 0.5375\n",
            "Epoch 185/500\n",
            "7/7 [==============================] - 0s 3ms/step - loss: 0.5400\n",
            "Epoch 186/500\n",
            "7/7 [==============================] - 0s 3ms/step - loss: 0.5233\n",
            "Epoch 187/500\n",
            "7/7 [==============================] - 0s 3ms/step - loss: 0.5210\n",
            "Epoch 188/500\n",
            "7/7 [==============================] - 0s 3ms/step - loss: 0.5227\n",
            "Epoch 189/500\n",
            "7/7 [==============================] - 0s 3ms/step - loss: 0.5237\n",
            "Epoch 190/500\n",
            "7/7 [==============================] - 0s 3ms/step - loss: 0.5171\n",
            "Epoch 191/500\n",
            "7/7 [==============================] - 0s 3ms/step - loss: 0.5395\n",
            "Epoch 192/500\n",
            "7/7 [==============================] - 0s 2ms/step - loss: 0.5134\n",
            "Epoch 193/500\n",
            "7/7 [==============================] - 0s 2ms/step - loss: 0.5166\n",
            "Epoch 194/500\n",
            "7/7 [==============================] - 0s 3ms/step - loss: 0.5068\n",
            "Epoch 195/500\n",
            "7/7 [==============================] - 0s 3ms/step - loss: 0.4733\n",
            "Epoch 196/500\n",
            "7/7 [==============================] - 0s 4ms/step - loss: 0.5297\n",
            "Epoch 197/500\n",
            "7/7 [==============================] - 0s 4ms/step - loss: 0.5096\n",
            "Epoch 198/500\n",
            "7/7 [==============================] - 0s 3ms/step - loss: 0.5116\n",
            "Epoch 199/500\n",
            "7/7 [==============================] - 0s 3ms/step - loss: 0.5484\n",
            "Epoch 200/500\n",
            "7/7 [==============================] - 0s 2ms/step - loss: 0.5200\n",
            "Epoch 201/500\n",
            "7/7 [==============================] - 0s 2ms/step - loss: 0.5046\n",
            "Epoch 202/500\n",
            "7/7 [==============================] - 0s 3ms/step - loss: 0.5287\n",
            "Epoch 203/500\n",
            "7/7 [==============================] - 0s 3ms/step - loss: 0.5497\n",
            "Epoch 204/500\n",
            "7/7 [==============================] - 0s 3ms/step - loss: 0.5088\n",
            "Epoch 205/500\n",
            "7/7 [==============================] - 0s 2ms/step - loss: 0.5563\n",
            "Epoch 206/500\n",
            "7/7 [==============================] - 0s 3ms/step - loss: 0.5267\n",
            "Epoch 207/500\n",
            "7/7 [==============================] - 0s 3ms/step - loss: 0.4920\n",
            "Epoch 208/500\n",
            "7/7 [==============================] - 0s 3ms/step - loss: 0.5786\n",
            "Epoch 209/500\n",
            "7/7 [==============================] - 0s 3ms/step - loss: 0.5056\n",
            "Epoch 210/500\n",
            "7/7 [==============================] - 0s 3ms/step - loss: 0.4945\n",
            "Epoch 211/500\n",
            "7/7 [==============================] - 0s 3ms/step - loss: 0.5123\n",
            "Epoch 212/500\n",
            "7/7 [==============================] - 0s 2ms/step - loss: 0.5212\n",
            "Epoch 213/500\n",
            "7/7 [==============================] - 0s 5ms/step - loss: 0.4858\n",
            "Epoch 214/500\n",
            "7/7 [==============================] - 0s 3ms/step - loss: 0.5673\n",
            "Epoch 215/500\n",
            "7/7 [==============================] - 0s 3ms/step - loss: 0.4870\n",
            "Epoch 216/500\n",
            "7/7 [==============================] - 0s 3ms/step - loss: 0.5017\n",
            "Epoch 217/500\n",
            "7/7 [==============================] - 0s 2ms/step - loss: 0.5276\n",
            "Epoch 218/500\n",
            "7/7 [==============================] - 0s 3ms/step - loss: 0.4955\n",
            "Epoch 219/500\n",
            "7/7 [==============================] - 0s 3ms/step - loss: 0.5084\n",
            "Epoch 220/500\n",
            "7/7 [==============================] - 0s 3ms/step - loss: 0.5336\n",
            "Epoch 221/500\n",
            "7/7 [==============================] - 0s 4ms/step - loss: 0.5358\n",
            "Epoch 222/500\n",
            "7/7 [==============================] - 0s 3ms/step - loss: 0.5403\n",
            "Epoch 223/500\n",
            "7/7 [==============================] - 0s 3ms/step - loss: 0.4758\n",
            "Epoch 224/500\n",
            "7/7 [==============================] - 0s 3ms/step - loss: 0.4774\n",
            "Epoch 225/500\n",
            "7/7 [==============================] - 0s 4ms/step - loss: 0.5452\n",
            "Epoch 226/500\n",
            "7/7 [==============================] - 0s 3ms/step - loss: 0.5289\n",
            "Epoch 227/500\n",
            "7/7 [==============================] - 0s 3ms/step - loss: 0.5361\n",
            "Epoch 228/500\n",
            "7/7 [==============================] - 0s 4ms/step - loss: 0.5211\n",
            "Epoch 229/500\n",
            "7/7 [==============================] - 0s 3ms/step - loss: 0.5268\n",
            "Epoch 230/500\n",
            "7/7 [==============================] - 0s 2ms/step - loss: 0.5239\n",
            "Epoch 231/500\n",
            "7/7 [==============================] - 0s 4ms/step - loss: 0.4793\n",
            "Epoch 232/500\n",
            "7/7 [==============================] - 0s 4ms/step - loss: 0.5376\n",
            "Epoch 233/500\n",
            "7/7 [==============================] - 0s 2ms/step - loss: 0.5142\n",
            "Epoch 234/500\n",
            "7/7 [==============================] - 0s 2ms/step - loss: 0.4618\n",
            "Epoch 235/500\n",
            "7/7 [==============================] - 0s 3ms/step - loss: 0.5223\n",
            "Epoch 236/500\n",
            "7/7 [==============================] - 0s 3ms/step - loss: 0.4728\n",
            "Epoch 237/500\n",
            "7/7 [==============================] - 0s 2ms/step - loss: 0.4987\n",
            "Epoch 238/500\n",
            "7/7 [==============================] - 0s 3ms/step - loss: 0.5207\n",
            "Epoch 239/500\n",
            "7/7 [==============================] - 0s 2ms/step - loss: 0.4984\n",
            "Epoch 240/500\n",
            "7/7 [==============================] - 0s 3ms/step - loss: 0.5513\n",
            "Epoch 241/500\n",
            "7/7 [==============================] - 0s 3ms/step - loss: 0.5179\n",
            "Epoch 242/500\n",
            "7/7 [==============================] - 0s 3ms/step - loss: 0.5236\n",
            "Epoch 243/500\n",
            "7/7 [==============================] - 0s 3ms/step - loss: 0.5258\n",
            "Epoch 244/500\n",
            "7/7 [==============================] - 0s 4ms/step - loss: 0.5473\n",
            "Epoch 245/500\n",
            "7/7 [==============================] - 0s 3ms/step - loss: 0.5346\n",
            "Epoch 246/500\n",
            "7/7 [==============================] - 0s 3ms/step - loss: 0.4935\n",
            "Epoch 247/500\n",
            "7/7 [==============================] - 0s 4ms/step - loss: 0.5254\n",
            "Epoch 248/500\n",
            "7/7 [==============================] - 0s 3ms/step - loss: 0.5325\n",
            "Epoch 249/500\n",
            "7/7 [==============================] - 0s 3ms/step - loss: 0.4970\n",
            "Epoch 250/500\n",
            "7/7 [==============================] - 0s 4ms/step - loss: 0.5219\n",
            "Epoch 251/500\n",
            "7/7 [==============================] - 0s 3ms/step - loss: 0.5483\n",
            "Epoch 252/500\n",
            "7/7 [==============================] - 0s 2ms/step - loss: 0.5281\n",
            "Epoch 253/500\n",
            "7/7 [==============================] - 0s 3ms/step - loss: 0.5207\n",
            "Epoch 254/500\n",
            "7/7 [==============================] - 0s 2ms/step - loss: 0.4975\n",
            "Epoch 255/500\n",
            "7/7 [==============================] - 0s 3ms/step - loss: 0.5204\n",
            "Epoch 256/500\n",
            "7/7 [==============================] - 0s 4ms/step - loss: 0.5044\n",
            "Epoch 257/500\n",
            "7/7 [==============================] - 0s 4ms/step - loss: 0.5060\n",
            "Epoch 258/500\n",
            "7/7 [==============================] - 0s 3ms/step - loss: 0.5183\n",
            "Epoch 259/500\n",
            "7/7 [==============================] - 0s 4ms/step - loss: 0.4826\n",
            "Epoch 260/500\n",
            "7/7 [==============================] - 0s 3ms/step - loss: 0.5096\n",
            "Epoch 261/500\n",
            "7/7 [==============================] - 0s 4ms/step - loss: 0.5040\n",
            "Epoch 262/500\n",
            "7/7 [==============================] - 0s 5ms/step - loss: 0.4895\n",
            "Epoch 263/500\n",
            "7/7 [==============================] - 0s 4ms/step - loss: 0.4640\n",
            "Epoch 264/500\n",
            "7/7 [==============================] - 0s 5ms/step - loss: 0.5208\n",
            "Epoch 265/500\n",
            "7/7 [==============================] - 0s 3ms/step - loss: 0.4994\n",
            "Epoch 266/500\n",
            "7/7 [==============================] - 0s 5ms/step - loss: 0.5340\n",
            "Epoch 267/500\n",
            "7/7 [==============================] - 0s 3ms/step - loss: 0.5195\n",
            "Epoch 268/500\n",
            "7/7 [==============================] - 0s 4ms/step - loss: 0.5121\n",
            "Epoch 269/500\n",
            "7/7 [==============================] - 0s 6ms/step - loss: 0.5097\n",
            "Epoch 270/500\n",
            "7/7 [==============================] - 0s 3ms/step - loss: 0.5245\n",
            "Epoch 271/500\n",
            "7/7 [==============================] - 0s 3ms/step - loss: 0.5119\n",
            "Epoch 272/500\n",
            "7/7 [==============================] - 0s 4ms/step - loss: 0.5101\n",
            "Epoch 273/500\n",
            "7/7 [==============================] - 0s 4ms/step - loss: 0.5065\n",
            "Epoch 274/500\n",
            "7/7 [==============================] - 0s 3ms/step - loss: 0.5258\n",
            "Epoch 275/500\n",
            "7/7 [==============================] - 0s 3ms/step - loss: 0.5257\n",
            "Epoch 276/500\n",
            "7/7 [==============================] - 0s 3ms/step - loss: 0.4891\n",
            "Epoch 277/500\n",
            "7/7 [==============================] - 0s 4ms/step - loss: 0.5277\n",
            "Epoch 278/500\n",
            "7/7 [==============================] - 0s 4ms/step - loss: 0.4977\n",
            "Epoch 279/500\n",
            "7/7 [==============================] - 0s 3ms/step - loss: 0.4769\n",
            "Epoch 280/500\n",
            "7/7 [==============================] - 0s 4ms/step - loss: 0.4980\n",
            "Epoch 281/500\n",
            "7/7 [==============================] - 0s 3ms/step - loss: 0.4793\n",
            "Epoch 282/500\n",
            "7/7 [==============================] - 0s 5ms/step - loss: 0.5134\n",
            "Epoch 283/500\n",
            "7/7 [==============================] - 0s 3ms/step - loss: 0.5319\n",
            "Epoch 284/500\n",
            "7/7 [==============================] - 0s 3ms/step - loss: 0.5033\n",
            "Epoch 285/500\n",
            "7/7 [==============================] - 0s 3ms/step - loss: 0.5042\n",
            "Epoch 286/500\n",
            "7/7 [==============================] - 0s 3ms/step - loss: 0.5130\n",
            "Epoch 287/500\n",
            "7/7 [==============================] - 0s 4ms/step - loss: 0.5361\n",
            "Epoch 288/500\n",
            "7/7 [==============================] - 0s 3ms/step - loss: 0.5297\n",
            "Epoch 289/500\n",
            "7/7 [==============================] - 0s 3ms/step - loss: 0.4687\n",
            "Epoch 290/500\n",
            "7/7 [==============================] - 0s 3ms/step - loss: 0.5244\n",
            "Epoch 291/500\n",
            "7/7 [==============================] - 0s 2ms/step - loss: 0.5088\n",
            "Epoch 292/500\n",
            "7/7 [==============================] - 0s 3ms/step - loss: 0.5159\n",
            "Epoch 293/500\n",
            "7/7 [==============================] - 0s 4ms/step - loss: 0.5026\n",
            "Epoch 294/500\n",
            "7/7 [==============================] - 0s 4ms/step - loss: 0.5051\n",
            "Epoch 295/500\n",
            "7/7 [==============================] - 0s 3ms/step - loss: 0.4429\n",
            "Epoch 296/500\n",
            "7/7 [==============================] - 0s 3ms/step - loss: 0.4859\n",
            "Epoch 297/500\n",
            "7/7 [==============================] - 0s 3ms/step - loss: 0.5398\n",
            "Epoch 298/500\n",
            "7/7 [==============================] - 0s 4ms/step - loss: 0.5111\n",
            "Epoch 299/500\n",
            "7/7 [==============================] - 0s 3ms/step - loss: 0.4928\n",
            "Epoch 300/500\n",
            "7/7 [==============================] - 0s 2ms/step - loss: 0.4718\n",
            "Epoch 301/500\n",
            "7/7 [==============================] - 0s 4ms/step - loss: 0.5052\n",
            "Epoch 302/500\n",
            "7/7 [==============================] - 0s 3ms/step - loss: 0.5113\n",
            "Epoch 303/500\n",
            "7/7 [==============================] - 0s 3ms/step - loss: 0.5070\n",
            "Epoch 304/500\n",
            "7/7 [==============================] - 0s 3ms/step - loss: 0.5415\n",
            "Epoch 305/500\n",
            "7/7 [==============================] - 0s 3ms/step - loss: 0.4716\n",
            "Epoch 306/500\n",
            "7/7 [==============================] - 0s 2ms/step - loss: 0.5004\n",
            "Epoch 307/500\n",
            "7/7 [==============================] - 0s 3ms/step - loss: 0.5096\n",
            "Epoch 308/500\n",
            "7/7 [==============================] - 0s 3ms/step - loss: 0.5013\n",
            "Epoch 309/500\n",
            "7/7 [==============================] - 0s 3ms/step - loss: 0.4995\n",
            "Epoch 310/500\n",
            "7/7 [==============================] - 0s 4ms/step - loss: 0.5488\n",
            "Epoch 311/500\n",
            "7/7 [==============================] - 0s 3ms/step - loss: 0.4921\n",
            "Epoch 312/500\n",
            "7/7 [==============================] - 0s 3ms/step - loss: 0.4890\n",
            "Epoch 313/500\n",
            "7/7 [==============================] - 0s 4ms/step - loss: 0.4901\n",
            "Epoch 314/500\n",
            "7/7 [==============================] - 0s 4ms/step - loss: 0.5067\n",
            "Epoch 315/500\n",
            "7/7 [==============================] - 0s 3ms/step - loss: 0.5122\n",
            "Epoch 316/500\n",
            "7/7 [==============================] - 0s 4ms/step - loss: 0.5228\n",
            "Epoch 317/500\n",
            "7/7 [==============================] - 0s 4ms/step - loss: 0.4961\n",
            "Epoch 318/500\n",
            "7/7 [==============================] - 0s 3ms/step - loss: 0.5351\n",
            "Epoch 319/500\n",
            "7/7 [==============================] - 0s 3ms/step - loss: 0.4945\n",
            "Epoch 320/500\n",
            "7/7 [==============================] - 0s 2ms/step - loss: 0.4924\n",
            "Epoch 321/500\n",
            "7/7 [==============================] - 0s 3ms/step - loss: 0.5040\n",
            "Epoch 322/500\n",
            "7/7 [==============================] - 0s 3ms/step - loss: 0.4713\n",
            "Epoch 323/500\n",
            "7/7 [==============================] - 0s 4ms/step - loss: 0.5151\n",
            "Epoch 324/500\n",
            "7/7 [==============================] - 0s 3ms/step - loss: 0.5193\n",
            "Epoch 325/500\n",
            "7/7 [==============================] - 0s 4ms/step - loss: 0.4655\n",
            "Epoch 326/500\n",
            "7/7 [==============================] - 0s 3ms/step - loss: 0.5183\n",
            "Epoch 327/500\n",
            "7/7 [==============================] - 0s 3ms/step - loss: 0.5238\n",
            "Epoch 328/500\n",
            "7/7 [==============================] - 0s 3ms/step - loss: 0.5119\n",
            "Epoch 329/500\n",
            "7/7 [==============================] - 0s 4ms/step - loss: 0.5036\n",
            "Epoch 330/500\n",
            "7/7 [==============================] - 0s 3ms/step - loss: 0.4799\n",
            "Epoch 331/500\n",
            "7/7 [==============================] - 0s 3ms/step - loss: 0.5147\n",
            "Epoch 332/500\n",
            "7/7 [==============================] - 0s 3ms/step - loss: 0.4960\n",
            "Epoch 333/500\n",
            "7/7 [==============================] - 0s 3ms/step - loss: 0.5376\n",
            "Epoch 334/500\n",
            "7/7 [==============================] - 0s 3ms/step - loss: 0.5235\n",
            "Epoch 335/500\n",
            "7/7 [==============================] - 0s 3ms/step - loss: 0.5458\n",
            "Epoch 336/500\n",
            "7/7 [==============================] - 0s 3ms/step - loss: 0.5179\n",
            "Epoch 337/500\n",
            "7/7 [==============================] - 0s 3ms/step - loss: 0.5034\n",
            "Epoch 338/500\n",
            "7/7 [==============================] - 0s 3ms/step - loss: 0.4947\n",
            "Epoch 339/500\n",
            "7/7 [==============================] - 0s 3ms/step - loss: 0.5229\n",
            "Epoch 340/500\n",
            "7/7 [==============================] - 0s 2ms/step - loss: 0.4496\n",
            "Epoch 341/500\n",
            "7/7 [==============================] - 0s 4ms/step - loss: 0.5079\n",
            "Epoch 342/500\n",
            "7/7 [==============================] - 0s 3ms/step - loss: 0.5135\n",
            "Epoch 343/500\n",
            "7/7 [==============================] - 0s 3ms/step - loss: 0.5099\n",
            "Epoch 344/500\n",
            "7/7 [==============================] - 0s 3ms/step - loss: 0.5129\n",
            "Epoch 345/500\n",
            "7/7 [==============================] - 0s 3ms/step - loss: 0.5179\n",
            "Epoch 346/500\n",
            "7/7 [==============================] - 0s 4ms/step - loss: 0.4836\n",
            "Epoch 347/500\n",
            "7/7 [==============================] - 0s 3ms/step - loss: 0.4729\n",
            "Epoch 348/500\n",
            "7/7 [==============================] - 0s 4ms/step - loss: 0.5117\n",
            "Epoch 349/500\n",
            "7/7 [==============================] - 0s 3ms/step - loss: 0.5190\n",
            "Epoch 350/500\n",
            "7/7 [==============================] - 0s 3ms/step - loss: 0.5198\n",
            "Epoch 351/500\n",
            "7/7 [==============================] - 0s 3ms/step - loss: 0.4911\n",
            "Epoch 352/500\n",
            "7/7 [==============================] - 0s 5ms/step - loss: 0.5095\n",
            "Epoch 353/500\n",
            "7/7 [==============================] - 0s 2ms/step - loss: 0.4811\n",
            "Epoch 354/500\n",
            "7/7 [==============================] - 0s 3ms/step - loss: 0.4528\n",
            "Epoch 355/500\n",
            "7/7 [==============================] - 0s 3ms/step - loss: 0.5076\n",
            "Epoch 356/500\n",
            "7/7 [==============================] - 0s 3ms/step - loss: 0.4774\n",
            "Epoch 357/500\n",
            "7/7 [==============================] - 0s 4ms/step - loss: 0.5159\n",
            "Epoch 358/500\n",
            "7/7 [==============================] - 0s 3ms/step - loss: 0.5208\n",
            "Epoch 359/500\n",
            "7/7 [==============================] - 0s 4ms/step - loss: 0.5200\n",
            "Epoch 360/500\n",
            "7/7 [==============================] - 0s 3ms/step - loss: 0.4900\n",
            "Epoch 361/500\n",
            "7/7 [==============================] - 0s 4ms/step - loss: 0.5384\n",
            "Epoch 362/500\n",
            "7/7 [==============================] - 0s 3ms/step - loss: 0.4862\n",
            "Epoch 363/500\n",
            "7/7 [==============================] - 0s 3ms/step - loss: 0.4810\n",
            "Epoch 364/500\n",
            "7/7 [==============================] - 0s 2ms/step - loss: 0.4764\n",
            "Epoch 365/500\n",
            "7/7 [==============================] - 0s 4ms/step - loss: 0.5034\n",
            "Epoch 366/500\n",
            "7/7 [==============================] - 0s 2ms/step - loss: 0.5036\n",
            "Epoch 367/500\n",
            "7/7 [==============================] - 0s 2ms/step - loss: 0.5009\n",
            "Epoch 368/500\n",
            "7/7 [==============================] - 0s 3ms/step - loss: 0.5202\n",
            "Epoch 369/500\n",
            "7/7 [==============================] - 0s 3ms/step - loss: 0.5414\n",
            "Epoch 370/500\n",
            "7/7 [==============================] - 0s 3ms/step - loss: 0.4855\n",
            "Epoch 371/500\n",
            "7/7 [==============================] - 0s 3ms/step - loss: 0.4691\n",
            "Epoch 372/500\n",
            "7/7 [==============================] - 0s 3ms/step - loss: 0.4971\n",
            "Epoch 373/500\n",
            "7/7 [==============================] - 0s 3ms/step - loss: 0.4727\n",
            "Epoch 374/500\n",
            "7/7 [==============================] - 0s 3ms/step - loss: 0.5263\n",
            "Epoch 375/500\n",
            "7/7 [==============================] - 0s 3ms/step - loss: 0.4779\n",
            "Epoch 376/500\n",
            "7/7 [==============================] - 0s 3ms/step - loss: 0.5124\n",
            "Epoch 377/500\n",
            "7/7 [==============================] - 0s 3ms/step - loss: 0.4908\n",
            "Epoch 378/500\n",
            "7/7 [==============================] - 0s 3ms/step - loss: 0.4592\n",
            "Epoch 379/500\n",
            "7/7 [==============================] - 0s 3ms/step - loss: 0.4773\n",
            "Epoch 380/500\n",
            "7/7 [==============================] - 0s 3ms/step - loss: 0.5315\n",
            "Epoch 381/500\n",
            "7/7 [==============================] - 0s 2ms/step - loss: 0.5326\n",
            "Epoch 382/500\n",
            "7/7 [==============================] - 0s 3ms/step - loss: 0.5008\n",
            "Epoch 383/500\n",
            "7/7 [==============================] - 0s 4ms/step - loss: 0.5096\n",
            "Epoch 384/500\n",
            "7/7 [==============================] - 0s 4ms/step - loss: 0.4936\n",
            "Epoch 385/500\n",
            "7/7 [==============================] - 0s 4ms/step - loss: 0.4932\n",
            "Epoch 386/500\n",
            "7/7 [==============================] - 0s 4ms/step - loss: 0.5112\n",
            "Epoch 387/500\n",
            "7/7 [==============================] - 0s 4ms/step - loss: 0.5160\n",
            "Epoch 388/500\n",
            "7/7 [==============================] - 0s 4ms/step - loss: 0.5297\n",
            "Epoch 389/500\n",
            "7/7 [==============================] - 0s 4ms/step - loss: 0.4873\n",
            "Epoch 390/500\n",
            "7/7 [==============================] - 0s 3ms/step - loss: 0.4635\n",
            "Epoch 391/500\n",
            "7/7 [==============================] - 0s 3ms/step - loss: 0.4659\n",
            "Epoch 392/500\n",
            "7/7 [==============================] - 0s 3ms/step - loss: 0.5008\n",
            "Epoch 393/500\n",
            "7/7 [==============================] - 0s 3ms/step - loss: 0.4868\n",
            "Epoch 394/500\n",
            "7/7 [==============================] - 0s 3ms/step - loss: 0.4785\n",
            "Epoch 395/500\n",
            "7/7 [==============================] - 0s 4ms/step - loss: 0.4988\n",
            "Epoch 396/500\n",
            "7/7 [==============================] - 0s 3ms/step - loss: 0.5150\n",
            "Epoch 397/500\n",
            "7/7 [==============================] - 0s 2ms/step - loss: 0.4952\n",
            "Epoch 398/500\n",
            "7/7 [==============================] - 0s 3ms/step - loss: 0.5294\n",
            "Epoch 399/500\n",
            "7/7 [==============================] - 0s 3ms/step - loss: 0.5111\n",
            "Epoch 400/500\n",
            "7/7 [==============================] - 0s 3ms/step - loss: 0.4854\n",
            "Epoch 401/500\n",
            "7/7 [==============================] - 0s 3ms/step - loss: 0.4952\n",
            "Epoch 402/500\n",
            "7/7 [==============================] - 0s 4ms/step - loss: 0.4643\n",
            "Epoch 403/500\n",
            "7/7 [==============================] - 0s 3ms/step - loss: 0.4670\n",
            "Epoch 404/500\n",
            "7/7 [==============================] - 0s 5ms/step - loss: 0.5124\n",
            "Epoch 405/500\n",
            "7/7 [==============================] - 0s 3ms/step - loss: 0.5359\n",
            "Epoch 406/500\n",
            "7/7 [==============================] - 0s 3ms/step - loss: 0.5041\n",
            "Epoch 407/500\n",
            "7/7 [==============================] - 0s 4ms/step - loss: 0.4648\n",
            "Epoch 408/500\n",
            "7/7 [==============================] - 0s 3ms/step - loss: 0.4977\n",
            "Epoch 409/500\n",
            "7/7 [==============================] - 0s 3ms/step - loss: 0.5079\n",
            "Epoch 410/500\n",
            "7/7 [==============================] - 0s 3ms/step - loss: 0.4730\n",
            "Epoch 411/500\n",
            "7/7 [==============================] - 0s 3ms/step - loss: 0.4905\n",
            "Epoch 412/500\n",
            "7/7 [==============================] - 0s 3ms/step - loss: 0.5030\n",
            "Epoch 413/500\n",
            "7/7 [==============================] - 0s 3ms/step - loss: 0.4999\n",
            "Epoch 414/500\n",
            "7/7 [==============================] - 0s 4ms/step - loss: 0.4980\n",
            "Epoch 415/500\n",
            "7/7 [==============================] - 0s 3ms/step - loss: 0.4973\n",
            "Epoch 416/500\n",
            "7/7 [==============================] - 0s 3ms/step - loss: 0.5142\n",
            "Epoch 417/500\n",
            "7/7 [==============================] - 0s 3ms/step - loss: 0.4619\n",
            "Epoch 418/500\n",
            "7/7 [==============================] - 0s 3ms/step - loss: 0.4549\n",
            "Epoch 419/500\n",
            "7/7 [==============================] - 0s 3ms/step - loss: 0.5066\n",
            "Epoch 420/500\n",
            "7/7 [==============================] - 0s 3ms/step - loss: 0.4798\n",
            "Epoch 421/500\n",
            "7/7 [==============================] - 0s 5ms/step - loss: 0.5223\n",
            "Epoch 422/500\n",
            "7/7 [==============================] - 0s 4ms/step - loss: 0.4793\n",
            "Epoch 423/500\n",
            "7/7 [==============================] - 0s 2ms/step - loss: 0.4964\n",
            "Epoch 424/500\n",
            "7/7 [==============================] - 0s 3ms/step - loss: 0.5014\n",
            "Epoch 425/500\n",
            "7/7 [==============================] - 0s 4ms/step - loss: 0.5171\n",
            "Epoch 426/500\n",
            "7/7 [==============================] - 0s 3ms/step - loss: 0.4895\n",
            "Epoch 427/500\n",
            "7/7 [==============================] - 0s 3ms/step - loss: 0.5019\n",
            "Epoch 428/500\n",
            "7/7 [==============================] - 0s 3ms/step - loss: 0.5098\n",
            "Epoch 429/500\n",
            "7/7 [==============================] - 0s 3ms/step - loss: 0.4860\n",
            "Epoch 430/500\n",
            "7/7 [==============================] - 0s 3ms/step - loss: 0.5305\n",
            "Epoch 431/500\n",
            "7/7 [==============================] - 0s 5ms/step - loss: 0.4641\n",
            "Epoch 432/500\n",
            "7/7 [==============================] - 0s 3ms/step - loss: 0.5165\n",
            "Epoch 433/500\n",
            "7/7 [==============================] - 0s 3ms/step - loss: 0.4754\n",
            "Epoch 434/500\n",
            "7/7 [==============================] - 0s 4ms/step - loss: 0.4945\n",
            "Epoch 435/500\n",
            "7/7 [==============================] - 0s 3ms/step - loss: 0.4903\n",
            "Epoch 436/500\n",
            "7/7 [==============================] - 0s 4ms/step - loss: 0.4966\n",
            "Epoch 437/500\n",
            "7/7 [==============================] - 0s 3ms/step - loss: 0.5005\n",
            "Epoch 438/500\n",
            "7/7 [==============================] - 0s 3ms/step - loss: 0.5424\n",
            "Epoch 439/500\n",
            "7/7 [==============================] - 0s 3ms/step - loss: 0.4694\n",
            "Epoch 440/500\n",
            "7/7 [==============================] - 0s 4ms/step - loss: 0.4703\n",
            "Epoch 441/500\n",
            "7/7 [==============================] - 0s 4ms/step - loss: 0.4964\n",
            "Epoch 442/500\n",
            "7/7 [==============================] - 0s 4ms/step - loss: 0.5268\n",
            "Epoch 443/500\n",
            "7/7 [==============================] - 0s 4ms/step - loss: 0.4594\n",
            "Epoch 444/500\n",
            "7/7 [==============================] - 0s 3ms/step - loss: 0.4890\n",
            "Epoch 445/500\n",
            "7/7 [==============================] - 0s 4ms/step - loss: 0.4860\n",
            "Epoch 446/500\n",
            "7/7 [==============================] - 0s 3ms/step - loss: 0.5202\n",
            "Epoch 447/500\n",
            "7/7 [==============================] - 0s 3ms/step - loss: 0.5069\n",
            "Epoch 448/500\n",
            "7/7 [==============================] - 0s 3ms/step - loss: 0.5103\n",
            "Epoch 449/500\n",
            "7/7 [==============================] - 0s 4ms/step - loss: 0.4765\n",
            "Epoch 450/500\n",
            "7/7 [==============================] - 0s 3ms/step - loss: 0.5065\n",
            "Epoch 451/500\n",
            "7/7 [==============================] - 0s 3ms/step - loss: 0.4979\n",
            "Epoch 452/500\n",
            "7/7 [==============================] - 0s 4ms/step - loss: 0.5416\n",
            "Epoch 453/500\n",
            "7/7 [==============================] - 0s 3ms/step - loss: 0.5289\n",
            "Epoch 454/500\n",
            "7/7 [==============================] - 0s 3ms/step - loss: 0.4772\n",
            "Epoch 455/500\n",
            "7/7 [==============================] - 0s 2ms/step - loss: 0.4907\n",
            "Epoch 456/500\n",
            "7/7 [==============================] - 0s 6ms/step - loss: 0.5218\n",
            "Epoch 457/500\n",
            "7/7 [==============================] - 0s 3ms/step - loss: 0.4872\n",
            "Epoch 458/500\n",
            "7/7 [==============================] - 0s 3ms/step - loss: 0.5387\n",
            "Epoch 459/500\n",
            "7/7 [==============================] - 0s 3ms/step - loss: 0.4551\n",
            "Epoch 460/500\n",
            "7/7 [==============================] - 0s 3ms/step - loss: 0.5078\n",
            "Epoch 461/500\n",
            "7/7 [==============================] - 0s 2ms/step - loss: 0.4866\n",
            "Epoch 462/500\n",
            "7/7 [==============================] - 0s 3ms/step - loss: 0.5237\n",
            "Epoch 463/500\n",
            "7/7 [==============================] - 0s 4ms/step - loss: 0.4919\n",
            "Epoch 464/500\n",
            "7/7 [==============================] - 0s 3ms/step - loss: 0.4856\n",
            "Epoch 465/500\n",
            "7/7 [==============================] - 0s 3ms/step - loss: 0.5063\n",
            "Epoch 466/500\n",
            "7/7 [==============================] - 0s 3ms/step - loss: 0.4908\n",
            "Epoch 467/500\n",
            "7/7 [==============================] - 0s 4ms/step - loss: 0.5128\n",
            "Epoch 468/500\n",
            "7/7 [==============================] - 0s 4ms/step - loss: 0.4686\n",
            "Epoch 469/500\n",
            "7/7 [==============================] - 0s 4ms/step - loss: 0.4645\n",
            "Epoch 470/500\n",
            "7/7 [==============================] - 0s 3ms/step - loss: 0.4767\n",
            "Epoch 471/500\n",
            "7/7 [==============================] - 0s 3ms/step - loss: 0.4833\n",
            "Epoch 472/500\n",
            "7/7 [==============================] - 0s 4ms/step - loss: 0.4890\n",
            "Epoch 473/500\n",
            "7/7 [==============================] - 0s 3ms/step - loss: 0.4866\n",
            "Epoch 474/500\n",
            "7/7 [==============================] - 0s 3ms/step - loss: 0.5235\n",
            "Epoch 475/500\n",
            "7/7 [==============================] - 0s 5ms/step - loss: 0.4751\n",
            "Epoch 476/500\n",
            "7/7 [==============================] - 0s 4ms/step - loss: 0.4947\n",
            "Epoch 477/500\n",
            "7/7 [==============================] - 0s 3ms/step - loss: 0.4927\n",
            "Epoch 478/500\n",
            "7/7 [==============================] - 0s 3ms/step - loss: 0.4994\n",
            "Epoch 479/500\n",
            "7/7 [==============================] - 0s 4ms/step - loss: 0.4919\n",
            "Epoch 480/500\n",
            "7/7 [==============================] - 0s 3ms/step - loss: 0.4986\n",
            "Epoch 481/500\n",
            "7/7 [==============================] - 0s 3ms/step - loss: 0.4962\n",
            "Epoch 482/500\n",
            "7/7 [==============================] - 0s 3ms/step - loss: 0.4997\n",
            "Epoch 483/500\n",
            "7/7 [==============================] - 0s 3ms/step - loss: 0.5201\n",
            "Epoch 484/500\n",
            "7/7 [==============================] - 0s 3ms/step - loss: 0.4776\n",
            "Epoch 485/500\n",
            "7/7 [==============================] - 0s 4ms/step - loss: 0.5075\n",
            "Epoch 486/500\n",
            "7/7 [==============================] - 0s 3ms/step - loss: 0.5028\n",
            "Epoch 487/500\n",
            "7/7 [==============================] - 0s 5ms/step - loss: 0.4622\n",
            "Epoch 488/500\n",
            "7/7 [==============================] - 0s 4ms/step - loss: 0.4863\n",
            "Epoch 489/500\n",
            "7/7 [==============================] - 0s 5ms/step - loss: 0.5163\n",
            "Epoch 490/500\n",
            "7/7 [==============================] - 0s 3ms/step - loss: 0.4969\n",
            "Epoch 491/500\n",
            "7/7 [==============================] - 0s 3ms/step - loss: 0.5075\n",
            "Epoch 492/500\n",
            "7/7 [==============================] - 0s 3ms/step - loss: 0.4996\n",
            "Epoch 493/500\n",
            "7/7 [==============================] - 0s 3ms/step - loss: 0.4998\n",
            "Epoch 494/500\n",
            "7/7 [==============================] - 0s 4ms/step - loss: 0.5089\n",
            "Epoch 495/500\n",
            "7/7 [==============================] - 0s 4ms/step - loss: 0.5088\n",
            "Epoch 496/500\n",
            "7/7 [==============================] - 0s 5ms/step - loss: 0.5276\n",
            "Epoch 497/500\n",
            "7/7 [==============================] - 0s 4ms/step - loss: 0.5298\n",
            "Epoch 498/500\n",
            "7/7 [==============================] - 0s 4ms/step - loss: 0.5074\n",
            "Epoch 499/500\n",
            "7/7 [==============================] - 0s 3ms/step - loss: 0.4699\n",
            "Epoch 500/500\n",
            "7/7 [==============================] - 0s 4ms/step - loss: 0.4822\n"
          ],
          "name": "stdout"
        },
        {
          "output_type": "execute_result",
          "data": {
            "text/plain": [
              "<keras.callbacks.History at 0x7f0b686fff50>"
            ]
          },
          "metadata": {
            "tags": []
          },
          "execution_count": 47
        }
      ]
    },
    {
      "cell_type": "code",
      "metadata": {
        "id": "S09IDwbEowp-"
      },
      "source": [
        "nn_predict = model.predict(X_test)"
      ],
      "execution_count": null,
      "outputs": []
    },
    {
      "cell_type": "code",
      "metadata": {
        "colab": {
          "base_uri": "https://localhost:8080/",
          "height": 168
        },
        "id": "R-hIgfnyngiH",
        "outputId": "98492df2-fef2-48d4-ae5b-4f424515dd3b"
      },
      "source": [
        "model."
      ],
      "execution_count": null,
      "outputs": [
        {
          "output_type": "error",
          "ename": "AttributeError",
          "evalue": "ignored",
          "traceback": [
            "\u001b[0;31m---------------------------------------------------------------------------\u001b[0m",
            "\u001b[0;31mAttributeError\u001b[0m                            Traceback (most recent call last)",
            "\u001b[0;32m<ipython-input-71-a06844491322>\u001b[0m in \u001b[0;36m<module>\u001b[0;34m()\u001b[0m\n\u001b[0;32m----> 1\u001b[0;31m \u001b[0mmodel\u001b[0m\u001b[0;34m.\u001b[0m\u001b[0mscore\u001b[0m\u001b[0;34m(\u001b[0m\u001b[0mX_test\u001b[0m \u001b[0;34m,\u001b[0m \u001b[0my_test\u001b[0m\u001b[0;34m)\u001b[0m\u001b[0;34m\u001b[0m\u001b[0;34m\u001b[0m\u001b[0m\n\u001b[0m",
            "\u001b[0;31mAttributeError\u001b[0m: 'Sequential' object has no attribute 'score'"
          ]
        }
      ]
    },
    {
      "cell_type": "code",
      "metadata": {
        "id": "0F8Y5zJb10jr"
      },
      "source": [
        "from sklearn.neural_network import MLPClassifier\n"
      ],
      "execution_count": null,
      "outputs": []
    },
    {
      "cell_type": "code",
      "metadata": {
        "colab": {
          "base_uri": "https://localhost:8080/"
        },
        "id": "weVOMgIa2ZcK",
        "outputId": "ce85721e-25da-45de-aa6c-a37deaf982c7"
      },
      "source": [
        "print(X_train.shape)\n",
        "print(y_train.shape)\n",
        "\n",
        "\n",
        "y_train_wala = y_train.ravel()\n",
        "print(y_train_wala.shape)"
      ],
      "execution_count": null,
      "outputs": [
        {
          "output_type": "stream",
          "text": [
            "(203, 4)\n",
            "(203, 1)\n",
            "(203,)\n"
          ],
          "name": "stdout"
        }
      ]
    },
    {
      "cell_type": "code",
      "metadata": {
        "colab": {
          "base_uri": "https://localhost:8080/"
        },
        "id": "pnmLzNxg11If",
        "outputId": "85bf9a72-263c-44f5-b56b-41da167390bc"
      },
      "source": [
        "clf = MLPClassifier(solver='lbfgs', alpha=1e-5,   hidden_layer_sizes=(5, 2), random_state=1)\n",
        "\n",
        "\n",
        "\n",
        "clf.fit(X_train, y_train_wala)"
      ],
      "execution_count": null,
      "outputs": [
        {
          "output_type": "stream",
          "text": [
            "/usr/local/lib/python3.7/dist-packages/sklearn/neural_network/_multilayer_perceptron.py:470: ConvergenceWarning: lbfgs failed to converge (status=1):\n",
            "STOP: TOTAL NO. of ITERATIONS REACHED LIMIT.\n",
            "\n",
            "Increase the number of iterations (max_iter) or scale the data as shown in:\n",
            "    https://scikit-learn.org/stable/modules/preprocessing.html\n",
            "  self.n_iter_ = _check_optimize_result(\"lbfgs\", opt_res, self.max_iter)\n"
          ],
          "name": "stderr"
        },
        {
          "output_type": "execute_result",
          "data": {
            "text/plain": [
              "MLPClassifier(activation='relu', alpha=1e-05, batch_size='auto', beta_1=0.9,\n",
              "              beta_2=0.999, early_stopping=False, epsilon=1e-08,\n",
              "              hidden_layer_sizes=(5, 2), learning_rate='constant',\n",
              "              learning_rate_init=0.001, max_fun=15000, max_iter=200,\n",
              "              momentum=0.9, n_iter_no_change=10, nesterovs_momentum=True,\n",
              "              power_t=0.5, random_state=1, shuffle=True, solver='lbfgs',\n",
              "              tol=0.0001, validation_fraction=0.1, verbose=False,\n",
              "              warm_start=False)"
            ]
          },
          "metadata": {
            "tags": []
          },
          "execution_count": 66
        }
      ]
    },
    {
      "cell_type": "code",
      "metadata": {
        "id": "sYZejjCJ1-4T"
      },
      "source": [
        ""
      ],
      "execution_count": null,
      "outputs": []
    }
  ]
}